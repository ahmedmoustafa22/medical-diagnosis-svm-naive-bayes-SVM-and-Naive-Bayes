{
  "cells": [
    {
      "cell_type": "code",
      "execution_count": 49,
      "metadata": {
        "id": "Y2CXTeNzx1ht"
      },
      "outputs": [],
      "source": [
        "import pandas as pd\n",
        "import numpy as np\n",
        "from sklearn.inspection import permutation_importance\n",
        "import kagglehub\n",
        "from sklearn.preprocessing import LabelEncoder\n",
        "from sklearn.svm import SVC\n",
        "from sklearn.model_selection import train_test_split\n",
        "from sklearn.metrics import accuracy_score, confusion_matrix, classification_report\n",
        "from sklearn.preprocessing import StandardScaler\n",
        "from sklearn.naive_bayes import MultinomialNB\n",
        "from sklearn.model_selection import cross_val_score\n",
        "from sklearn.datasets import load_breast_cancer\n",
        "from sklearn.preprocessing import MinMaxScaler\n",
        "from sklearn.metrics import mean_squared_error\n",
        "from sklearn.metrics import  precision_score, recall_score, f1_score\n",
        "import time\n",
        "import matplotlib.pyplot as plt\n",
        "import seaborn as sns\n",
        "\n",
        "\n",
        "\n",
        "\n",
        "\n"
      ]
    },
    {
      "cell_type": "code",
      "execution_count": 50,
      "metadata": {
        "colab": {
          "base_uri": "https://localhost:8080/"
        },
        "id": "EJk9rimczfJm",
        "outputId": "b84ce3bd-e41f-4c89-f8f7-d08cfe384971"
      },
      "outputs": [
        {
          "name": "stdout",
          "output_type": "stream",
          "text": [
            "Warning: Looks like you're using an outdated `kagglehub` version, please consider updating (latest version: 0.3.4)\n",
            "Path to dataset files: /root/.cache/kagglehub/datasets/uciml/breast-cancer-wisconsin-data/versions/2\n"
          ]
        }
      ],
      "source": [
        "# Load the Breast Cancer Wisconsin Dataset from Kaggle\n",
        "\n",
        "path = kagglehub.dataset_download(\"uciml/breast-cancer-wisconsin-data\")\n",
        "\n",
        "print(\"Path to dataset files:\", path)"
      ]
    },
    {
      "cell_type": "code",
      "execution_count": 51,
      "metadata": {
        "colab": {
          "base_uri": "https://localhost:8080/"
        },
        "id": "SHDlKqptzA4z",
        "outputId": "3148995b-b6f6-4509-8ec5-5e26caceab4c"
      },
      "outputs": [
        {
          "name": "stdout",
          "output_type": "stream",
          "text": [
            "   diagnosis  radius_mean  texture_mean  perimeter_mean  area_mean  \\\n",
            "0          1        17.99         10.38          122.80     1001.0   \n",
            "1          1        20.57         17.77          132.90     1326.0   \n",
            "2          1        19.69         21.25          130.00     1203.0   \n",
            "3          1        11.42         20.38           77.58      386.1   \n",
            "4          1        20.29         14.34          135.10     1297.0   \n",
            "\n",
            "   smoothness_mean  compactness_mean  concavity_mean  concave points_mean  \\\n",
            "0          0.11840           0.27760          0.3001              0.14710   \n",
            "1          0.08474           0.07864          0.0869              0.07017   \n",
            "2          0.10960           0.15990          0.1974              0.12790   \n",
            "3          0.14250           0.28390          0.2414              0.10520   \n",
            "4          0.10030           0.13280          0.1980              0.10430   \n",
            "\n",
            "   symmetry_mean  ...  radius_worst  texture_worst  perimeter_worst  \\\n",
            "0         0.2419  ...         25.38          17.33           184.60   \n",
            "1         0.1812  ...         24.99          23.41           158.80   \n",
            "2         0.2069  ...         23.57          25.53           152.50   \n",
            "3         0.2597  ...         14.91          26.50            98.87   \n",
            "4         0.1809  ...         22.54          16.67           152.20   \n",
            "\n",
            "   area_worst  smoothness_worst  compactness_worst  concavity_worst  \\\n",
            "0      2019.0            0.1622             0.6656           0.7119   \n",
            "1      1956.0            0.1238             0.1866           0.2416   \n",
            "2      1709.0            0.1444             0.4245           0.4504   \n",
            "3       567.7            0.2098             0.8663           0.6869   \n",
            "4      1575.0            0.1374             0.2050           0.4000   \n",
            "\n",
            "   concave points_worst  symmetry_worst  fractal_dimension_worst  \n",
            "0                0.2654          0.4601                  0.11890  \n",
            "1                0.1860          0.2750                  0.08902  \n",
            "2                0.2430          0.3613                  0.08758  \n",
            "3                0.2575          0.6638                  0.17300  \n",
            "4                0.1625          0.2364                  0.07678  \n",
            "\n",
            "[5 rows x 31 columns]\n"
          ]
        }
      ],
      "source": [
        "# Read the dataset\n",
        "path = \"/root/.cache/kagglehub/datasets/uciml/breast-cancer-wisconsin-data/versions/2/data.csv\"\n",
        "\n",
        "data = pd.read_csv(path, encoding='latin-1', sep=',')\n",
        "\n",
        "# Data Preprocessing\n",
        "# Drop irrelevant columns ('id' and 'Unnamed: 32')\n",
        "\n",
        "data.drop(labels = ['id','Unnamed: 32'],axis = 1,inplace = True)\n",
        "\n",
        "# Encode the target column 'diagnosis' into numerical values (1 for Malignant, 0 for Benign)\n",
        "\n",
        "\n",
        "\n",
        "label_encoder = LabelEncoder()\n",
        "data['diagnosis'] = label_encoder.fit_transform(data['diagnosis'])\n",
        "print(data.head())"
      ]
    },
    {
      "cell_type": "code",
      "execution_count": 52,
      "metadata": {
        "colab": {
          "base_uri": "https://localhost:8080/"
        },
        "id": "WmDXgnSR1Qet",
        "outputId": "386e4c75-e6c2-40c0-c464-a53ee03a9990"
      },
      "outputs": [
        {
          "name": "stdout",
          "output_type": "stream",
          "text": [
            "['perimeter_mean', 'area_mean', 'concave points_mean', 'perimeter_se', 'area_se', 'radius_worst', 'texture_worst', 'perimeter_worst', 'area_worst', 'concave points_worst']\n"
          ]
        }
      ],
      "source": [
        "# displaying highly correlated features \n",
        "corr_matrix = data.corr().abs()\n",
        "\n",
        "upper = corr_matrix.where(np.triu(np.ones(corr_matrix.shape), k=1).astype(bool))\n",
        "\n",
        "highcorrfeatures = [column for column in upper.columns if any(upper[column] > 0.9)]\n",
        "\n",
        "print(f\"{highcorrfeatures}\")"
      ]
    },
    {
      "cell_type": "code",
      "execution_count": 53,
      "metadata": {
        "colab": {
          "base_uri": "https://localhost:8080/"
        },
        "id": "_RytOPB-D3BZ",
        "outputId": "fbf07ec3-623e-47c5-dc54-bdb22f54a1df"
      },
      "outputs": [
        {
          "name": "stdout",
          "output_type": "stream",
          "text": [
            "   diagnosis  radius_mean  texture_mean  smoothness_mean  compactness_mean  \\\n",
            "0          1     0.521037      0.022658         0.593753          0.792037   \n",
            "1          1     0.643144      0.272574         0.289880          0.181768   \n",
            "2          1     0.601496      0.390260         0.514309          0.431017   \n",
            "3          1     0.210090      0.360839         0.811321          0.811361   \n",
            "4          1     0.629893      0.156578         0.430351          0.347893   \n",
            "\n",
            "   concavity_mean  symmetry_mean  fractal_dimension_mean  radius_se  \\\n",
            "0        0.703140       0.686364                0.605518   0.356147   \n",
            "1        0.203608       0.379798                0.141323   0.156437   \n",
            "2        0.462512       0.509596                0.211247   0.229622   \n",
            "3        0.565604       0.776263                1.000000   0.139091   \n",
            "4        0.463918       0.378283                0.186816   0.233822   \n",
            "\n",
            "   texture_se  ...  compactness_se  concavity_se  concave points_se  \\\n",
            "0    0.120469  ...        0.351398      0.135682           0.300625   \n",
            "1    0.082589  ...        0.081323      0.046970           0.253836   \n",
            "2    0.094303  ...        0.283955      0.096768           0.389847   \n",
            "3    0.175875  ...        0.543215      0.142955           0.353665   \n",
            "4    0.093065  ...        0.167918      0.143636           0.357075   \n",
            "\n",
            "   symmetry_se  fractal_dimension_se  smoothness_worst  compactness_worst  \\\n",
            "0     0.311645              0.183042          0.601136           0.619292   \n",
            "1     0.084539              0.091110          0.347553           0.154563   \n",
            "2     0.205690              0.127006          0.483590           0.385375   \n",
            "3     0.728148              0.287205          0.915472           0.814012   \n",
            "4     0.136179              0.145800          0.437364           0.172415   \n",
            "\n",
            "   concavity_worst  symmetry_worst  fractal_dimension_worst  \n",
            "0         0.568610        0.598462                 0.418864  \n",
            "1         0.192971        0.233590                 0.222878  \n",
            "2         0.359744        0.403706                 0.213433  \n",
            "3         0.548642        1.000000                 0.773711  \n",
            "4         0.319489        0.157500                 0.142595  \n",
            "\n",
            "[5 rows x 21 columns]\n"
          ]
        }
      ],
      "source": [
        "# Remove highly correlated features to avoid multicollinearity\n",
        "data.columns = data.columns.str.strip()\n",
        "data.drop(labels = ['perimeter_mean', 'area_mean', 'concave points_mean', 'perimeter_se', 'area_se', 'radius_worst', 'texture_worst', 'perimeter_worst', 'area_worst', 'concave points_worst'\n",
        "], axis = 1, inplace = True)\n",
        "\n",
        "# Normalize the dataset using MinMaxScaler\n",
        "\n",
        "\n",
        "scaler = MinMaxScaler()\n",
        "numeric_columns = data.select_dtypes(include=['float64']).columns\n",
        "data[numeric_columns] = scaler.fit_transform(data[numeric_columns])\n",
        "print(data.head())\n",
        "\n",
        "\n",
        "\n",
        "\n",
        "\n"
      ]
    },
    {
      "cell_type": "code",
      "execution_count": 54,
      "metadata": {
        "id": "BjBBCST-NtV9"
      },
      "outputs": [],
      "source": [
        "# Split the dataset into training, validation, and test sets\n",
        "X = data.drop('diagnosis', axis=1)\n",
        "#y will be the target\n",
        "y = data['diagnosis']\n",
        "#split the data to 60% training and 40% remaining\n",
        "X_train, X_remaining, y_train, y_remaining = train_test_split(X, y, test_size=0.4, random_state=42)\n",
        "# remaining data to 20% cross-validation and 20% testing\n",
        "X_val, X_test, y_val, y_test = train_test_split(X_remaining, y_remaining, test_size=0.5, random_state=42)\n",
        "\n"
      ]
    },
    {
      "cell_type": "code",
      "execution_count": 55,
      "metadata": {
        "id": "-Bj1A7ElV9-x"
      },
      "outputs": [],
      "source": [
        "#hyperparameter ranges\n",
        "kerneltypes = ['linear', 'poly', 'rbf']\n",
        "Cvalues = [0.001, 0.01, 0.1, 1, 10, 100,1000]\n",
        "gammavalues = [0.0001, 0.001, 0.01, 0.1, 1, 10, 100]\n",
        "degreevalues = [1, 2, 3, 4, 5, 6]\n",
        "results = []\n",
        "\n",
        "#  loop through all hyperparameters\n",
        "for kernel in kerneltypes:\n",
        "    for C in Cvalues:\n",
        "\n",
        "        degree_range = degreevalues if kernel == 'poly' else [None]\n",
        "\n",
        "        for degree in degree_range:\n",
        "            for gamma in gammavalues:\n",
        "                if kernel == 'poly':\n",
        "                    model = SVC(kernel=kernel, C=C, degree=degree, gamma=gamma)\n",
        "                else:\n",
        "                    model = SVC(kernel=kernel, C=C, gamma=gamma)\n",
        "\n",
        "                model.fit(X_train, y_train)\n",
        "\n",
        "                y_val_pred = model.predict(X_val)\n",
        "                validation_accuracy = accuracy_score(y_val, y_val_pred)\n",
        "\n",
        "                results.append({\n",
        "                    'kernel': kernel,\n",
        "                    'C': C,\n",
        "                    'degree': degree,\n",
        "                    'gamma': gamma,\n",
        "                    'cv_accuracy': validation_accuracy,\n",
        "\n",
        "                })\n"
      ]
    },
    {
      "cell_type": "code",
      "execution_count": 56,
      "metadata": {
        "colab": {
          "base_uri": "https://localhost:8080/"
        },
        "id": "hlfK_CZwZAaI",
        "outputId": "12ecb1cd-3518-44f2-b7be-2aad8493f4c3"
      },
      "outputs": [
        {
          "name": "stdout",
          "output_type": "stream",
          "text": [
            "Top 3 Cross-Validation Results:\n",
            "    kernel       C  degree  gamma  cv_accuracy\n",
            "303   poly  1000.0     1.0   0.01     0.991228\n",
            "186   poly     1.0     2.0   1.00     0.991228\n",
            "180   poly     1.0     1.0  10.00     0.991228\n"
          ]
        }
      ],
      "source": [
        "#displaying top 3 cross validation results\n",
        "top_results_cv = results_df.sort_values(by='cv_accuracy', ascending=False).head(3)\n",
        "print(\"Top 3 Cross-Validation Results:\")\n",
        "print(top_results_cv)"
      ]
    },
    {
      "cell_type": "markdown",
      "metadata": {
        "id": "BpzJXffYZdnv"
      },
      "source": [
        "\n",
        "The top three results show that the polynomial kernel performs best. The first model with C equal to 1000, degree of 1, and gamma of 0.01 achieves the highest cross-validation accuracy of 0.991228. This model will be used for final testing accuracy because of its strong performance and good balance of complexity.\n"
      ]
    },
    {
      "cell_type": "code",
      "execution_count": 57,
      "metadata": {
        "colab": {
          "base_uri": "https://localhost:8080/"
        },
        "id": "jqDapMW4d8tP",
        "outputId": "06588b9e-014c-4216-f5d1-7b99ff96c12d"
      },
      "outputs": [
        {
          "name": "stdout",
          "output_type": "stream",
          "text": [
            "Final Test Accuracy: 0.9736842105263158\n"
          ]
        }
      ],
      "source": [
        "\n",
        "best_kernel = top_results_cv.iloc[0]['kernel']\n",
        "best_C = top_results_cv.iloc[0]['C']\n",
        "best_degree = top_results_cv.iloc[0]['degree'] if best_kernel == 'poly' else None\n",
        "best_gamma = top_results_cv.iloc[0]['gamma']\n",
        "\n",
        "\n",
        "best_model = SVC(kernel=best_kernel, C=best_C, degree=int(best_degree) if best_kernel == 'poly' else None, gamma=best_gamma)\n",
        "\n",
        "best_model.fit(X_train, y_train)\n",
        "\n",
        "\n",
        "y_test_pred = best_model.predict(X_test)\n",
        "\n",
        "\n",
        "test_accuracy = accuracy_score(y_test, y_test_pred)\n",
        "\n",
        "print(f\"Final Test Accuracy: {test_accuracy}\")\n"
      ]
    },
    {
      "cell_type": "markdown",
      "metadata": {
        "id": "KsMx8dkqythw"
      },
      "source": [
        "The final test accuracy of 0.9737 shows that the model does a great job on new, unseen data. Since it had a high cross-validation accuracy of 0.9912, the slight drop in test accuracy is expected and still solid. This means the chosen hyperparameters are working well, balancing fitting the data without overfitting, and the model is reliable for making predictions.\n",
        "\n",
        "\n",
        "\n",
        "\n",
        "\n",
        "\n"
      ]
    },
    {
      "cell_type": "code",
      "execution_count": 58,
      "metadata": {
        "colab": {
          "base_uri": "https://localhost:8080/"
        },
        "id": "-oanabsof6cS",
        "outputId": "582f061a-61dc-4468-80c4-05a665c33d1c"
      },
      "outputs": [
        {
          "name": "stdout",
          "output_type": "stream",
          "text": [
            "                    Feature  Importance\n",
            "4            concavity_mean    0.083871\n",
            "0               radius_mean    0.057185\n",
            "18           symmetry_worst    0.044575\n",
            "17          concavity_worst    0.035484\n",
            "1              texture_mean    0.029326\n",
            "7                 radius_se    0.022581\n",
            "6    fractal_dimension_mean    0.012317\n",
            "15         smoothness_worst    0.012023\n",
            "12        concave points_se    0.009091\n",
            "14     fractal_dimension_se    0.000587\n",
            "16        compactness_worst    0.000000\n",
            "19  fractal_dimension_worst    0.000000\n",
            "11             concavity_se   -0.000293\n",
            "8                texture_se   -0.000293\n",
            "10           compactness_se   -0.000880\n",
            "9             smoothness_se   -0.001760\n",
            "3          compactness_mean   -0.002639\n",
            "2           smoothness_mean   -0.002639\n",
            "13              symmetry_se   -0.003812\n",
            "5             symmetry_mean   -0.004399\n"
          ]
        }
      ],
      "source": [
        "svm_model = SVC(kernel='poly', C=1000, degree=1, gamma=0.01)\n",
        "\n",
        "svm_model.fit(X_train, y_train)\n",
        "\n",
        "from sklearn.inspection import permutation_importance\n",
        "\n",
        "result = permutation_importance(svm_model, X_train, y_train, n_repeats=10, random_state=42)\n",
        "feature_importance = result.importances_mean\n",
        "\n",
        "importance_df = pd.DataFrame({\n",
        "    'Feature': X.columns,\n",
        "    'Importance': feature_importance\n",
        "})\n",
        "\n",
        "importance_df = importance_df.sort_values(by='Importance', ascending=False)\n",
        "print(importance_df)\n"
      ]
    },
    {
      "cell_type": "markdown",
      "metadata": {
        "id": "oQouGJajXEHH"
      },
      "source": [
        "The feature importance results show that \"concavity_mean\" and \"radius_mean\" are the most influential features, with the highest importance scores. In contrast, features like \"fractal_dimension_mean\" and \"smoothness_mean\" contribute very little to the model. The negative importance for \"symmetry_mean\" suggests a small inverse relationship with the target, but its effect is minimal."
      ]
    },
    {
      "cell_type": "code",
      "execution_count": 59,
      "metadata": {
        "colab": {
          "base_uri": "https://localhost:8080/"
        },
        "id": "BCqyQvf8lphM",
        "outputId": "44d75ad5-c500-4550-a782-64643e461fd7"
      },
      "outputs": [
        {
          "name": "stdout",
          "output_type": "stream",
          "text": [
            "Training Size: 90%, Test Accuracy: 0.9825\n",
            "Training Size: 80%, Test Accuracy: 0.9737\n",
            "Training Size: 70%, Test Accuracy: 0.9649\n",
            "Training Size: 60%, Test Accuracy: 0.9561\n",
            "Training Size: 50%, Test Accuracy: 0.9561\n",
            "Training Size: 40%, Test Accuracy: 0.9649\n",
            "Training Size: 30%, Test Accuracy: 0.9561\n",
            "Training Size: 20%, Test Accuracy: 0.9474\n",
            "Training Size: 10%, Test Accuracy: 0.9211\n"
          ]
        }
      ],
      "source": [
        "# set the training size that ranges from 90% to 10%\n",
        "training_sizes = [0.9, 0.8, 0.7, 0.6, 0.5, 0.4, 0.3, 0.2, 0.1]\n",
        "\n",
        "accuracies = []\n",
        "\n",
        "# start training the model for each size\n",
        "for size in training_sizes:\n",
        "    # i split the training data for the current training size\n",
        "    X_train_subset, _, y_train_subset, _ = train_test_split(X_train, y_train, train_size=size, random_state=42)\n",
        "\n",
        "    svm_model = SVC(kernel='linear', C=100.0, gamma=1)\n",
        "    svm_model.fit(X_train_subset, y_train_subset)\n",
        "\n",
        "    #  predicted the test set using the trained model\n",
        "    y_test_pred = svm_model.predict(X_test)\n",
        "\n",
        "    # calculate and store the accuracy\n",
        "    test_accuracy = accuracy_score(y_test, y_test_pred)\n",
        "    accuracies.append(test_accuracy)\n",
        "\n",
        "#  print the results for each training size\n",
        "for size, accuracy in zip(training_sizes, accuracies):\n",
        "    print(f\"Training Size: {size * 100:.0f}%, Test Accuracy: {accuracy:.4f}\")\n"
      ]
    },
    {
      "cell_type": "markdown",
      "metadata": {
        "id": "dkMJjBziYEl0"
      },
      "source": [
        "\n",
        "As the training size decreases, the test accuracy shows a general decline. Initially, with 90% of the data used for training, the model achieves a test accuracy of 98.25%. As the training size reduces, the performance decreases, stabilizing around 95.61% when the training size is 60% or lower. The smallest training size of 10% results in the lowest test accuracy of 92.11%. This suggests that larger training sets lead to better model performance, but the accuracy stabilizes beyond a certain point as the model has enough data for training."
      ]
    },
    {
      "cell_type": "code",
      "execution_count": 60,
      "metadata": {
        "colab": {
          "base_uri": "https://localhost:8080/",
          "height": 596
        },
        "id": "VCzaKgWsjZb-",
        "outputId": "85243d56-f4d4-423a-9dd9-91c59be253e4"
      },
      "outputs": [
        {
          "data": {
            "image/png": "[encoded data removed]",
            "text/plain": [
              "<Figure size 600x500 with 2 Axes>"
            ]
          },
          "metadata": {},
          "output_type": "display_data"
        },
        {
          "name": "stdout",
          "output_type": "stream",
          "text": [
            "Confusion Matrix:\n",
            "[[74  2]\n",
            " [ 0 38]]\n",
            "Sensitivity (True Positive Rate): 0.9737\n",
            "Specificity (True Negative Rate): 1.0000\n",
            "Accuracy: 0.9825\n"
          ]
        }
      ],
      "source": [
        "svm_model = SVC(kernel='linear', C=100.0, gamma=1)\n",
        "svm_model.fit(X_train, y_train)\n",
        "\n",
        "y_test_pred_svm = svm_model.predict(X_test)\n",
        "\n",
        "cm = confusion_matrix(y_test, y_test_pred_svm)\n",
        "\n",
        "plt.figure(figsize=(6, 5))\n",
        "sns.heatmap(cm, annot=True, fmt='d', cmap='Blues', xticklabels=['Malignant', 'Benign'], yticklabels=['Malignant', 'Benign'])\n",
        "plt.xlabel('Predicted')\n",
        "plt.ylabel('Actual')\n",
        "plt.title('Confusion Matrix')\n",
        "plt.show()\n",
        "\n",
        "print(\"Confusion Matrix:\")\n",
        "print(cm)\n",
        "\n",
        "TP = cm[0, 0]\n",
        "TN = cm[1, 1]\n",
        "FP = cm[1, 0]\n",
        "FN = cm[0, 1]\n",
        "\n",
        "sensitivity = TP / (TP + FN)\n",
        "specificity = TN / (TN + FP)\n",
        "accuracy = (TP + TN) / (TP + TN + FP + FN)\n",
        "\n",
        "print(f\"Sensitivity (True Positive Rate): {sensitivity:.4f}\")\n",
        "print(f\"Specificity (True Negative Rate): {specificity:.4f}\")\n",
        "print(f\"Accuracy: {accuracy:.4f}\")\n"
      ]
    },
    {
      "cell_type": "markdown",
      "metadata": {
        "id": "irXVeNxa0EVG"
      },
      "source": [
        "The model performs excellently, with a sensitivity of 97.37%, meaning it correctly identifies most malignant cases. It has perfect specificity (100%), indicating no false positives for benign cases. With an overall accuracy of 98.25%, the model reliably distinguishes between malignant and benign tumors, making it highly effective for breast cancer detection."
      ]
    },
    {
      "cell_type": "markdown",
      "metadata": {
        "id": "vUGHY9DsxflH"
      },
      "source": [
        "PART 2 Multinomial Naive Bayes model\n"
      ]
    },
    {
      "cell_type": "code",
      "execution_count": 61,
      "metadata": {
        "colab": {
          "base_uri": "https://localhost:8080/"
        },
        "id": "n7PqedIgxhXA",
        "outputId": "b043ba29-6c58-4547-f650-7817a5d00232"
      },
      "outputs": [
        {
          "name": "stdout",
          "output_type": "stream",
          "text": [
            "   diagnosis  radius_mean  texture_mean  perimeter_mean  area_mean  \\\n",
            "0          1        17.99         10.38          122.80     1001.0   \n",
            "1          1        20.57         17.77          132.90     1326.0   \n",
            "2          1        19.69         21.25          130.00     1203.0   \n",
            "3          1        11.42         20.38           77.58      386.1   \n",
            "4          1        20.29         14.34          135.10     1297.0   \n",
            "\n",
            "   smoothness_mean  compactness_mean  concavity_mean  concave points_mean  \\\n",
            "0          0.11840           0.27760          0.3001              0.14710   \n",
            "1          0.08474           0.07864          0.0869              0.07017   \n",
            "2          0.10960           0.15990          0.1974              0.12790   \n",
            "3          0.14250           0.28390          0.2414              0.10520   \n",
            "4          0.10030           0.13280          0.1980              0.10430   \n",
            "\n",
            "   symmetry_mean  ...  radius_worst  texture_worst  perimeter_worst  \\\n",
            "0         0.2419  ...         25.38          17.33           184.60   \n",
            "1         0.1812  ...         24.99          23.41           158.80   \n",
            "2         0.2069  ...         23.57          25.53           152.50   \n",
            "3         0.2597  ...         14.91          26.50            98.87   \n",
            "4         0.1809  ...         22.54          16.67           152.20   \n",
            "\n",
            "   area_worst  smoothness_worst  compactness_worst  concavity_worst  \\\n",
            "0      2019.0            0.1622             0.6656           0.7119   \n",
            "1      1956.0            0.1238             0.1866           0.2416   \n",
            "2      1709.0            0.1444             0.4245           0.4504   \n",
            "3       567.7            0.2098             0.8663           0.6869   \n",
            "4      1575.0            0.1374             0.2050           0.4000   \n",
            "\n",
            "   concave points_worst  symmetry_worst  fractal_dimension_worst  \n",
            "0                0.2654          0.4601                  0.11890  \n",
            "1                0.1860          0.2750                  0.08902  \n",
            "2                0.2430          0.3613                  0.08758  \n",
            "3                0.2575          0.6638                  0.17300  \n",
            "4                0.1625          0.2364                  0.07678  \n",
            "\n",
            "[5 rows x 31 columns]\n"
          ]
        }
      ],
      "source": [
        "# Reading and cleaning the dataset:\n",
        "path = \"/root/.cache/kagglehub/datasets/uciml/breast-cancer-wisconsin-data/versions/2/data.csv\"\n",
        "data = pd.read_csv(path, encoding='latin-1', sep=',')\n",
        "data.drop(labels = ['id','Unnamed: 32'],axis = 1,inplace = True)\n",
        "label_encoder = LabelEncoder()\n",
        "data['diagnosis'] = label_encoder.fit_transform(data['diagnosis'])\n",
        "print(data.head())"
      ]
    },
    {
      "cell_type": "code",
      "execution_count": 62,
      "metadata": {
        "colab": {
          "base_uri": "https://localhost:8080/"
        },
        "id": "CUdo4LN6xsXT",
        "outputId": "5cc3af3b-bfdd-48c3-c7ca-1eb32b53830b"
      },
      "outputs": [
        {
          "name": "stdout",
          "output_type": "stream",
          "text": [
            "['perimeter_mean', 'area_mean', 'concave points_mean', 'perimeter_se', 'area_se', 'radius_worst', 'texture_worst', 'perimeter_worst', 'area_worst', 'concave points_worst']\n"
          ]
        }
      ],
      "source": [
        "corr_matrix = data.corr().abs()\n",
        "\n",
        "upper = corr_matrix.where(np.triu(np.ones(corr_matrix.shape), k=1).astype(bool))\n",
        "\n",
        "highcorrfeatures = [column for column in upper.columns if any(upper[column] > 0.9)]\n",
        "\n",
        "print(f\"{highcorrfeatures}\")"
      ]
    },
    {
      "cell_type": "code",
      "execution_count": 63,
      "metadata": {
        "colab": {
          "base_uri": "https://localhost:8080/"
        },
        "id": "9qWxZyZ2xyov",
        "outputId": "cbec909d-a41f-48e5-d410-cf3b10fa32f7"
      },
      "outputs": [
        {
          "name": "stdout",
          "output_type": "stream",
          "text": [
            "   diagnosis  radius_mean  texture_mean  smoothness_mean  compactness_mean  \\\n",
            "0          1     0.521037      0.022658         0.593753          0.792037   \n",
            "1          1     0.643144      0.272574         0.289880          0.181768   \n",
            "2          1     0.601496      0.390260         0.514309          0.431017   \n",
            "3          1     0.210090      0.360839         0.811321          0.811361   \n",
            "4          1     0.629893      0.156578         0.430351          0.347893   \n",
            "\n",
            "   concavity_mean  symmetry_mean  fractal_dimension_mean  radius_se  \\\n",
            "0        0.703140       0.686364                0.605518   0.356147   \n",
            "1        0.203608       0.379798                0.141323   0.156437   \n",
            "2        0.462512       0.509596                0.211247   0.229622   \n",
            "3        0.565604       0.776263                1.000000   0.139091   \n",
            "4        0.463918       0.378283                0.186816   0.233822   \n",
            "\n",
            "   texture_se  ...  compactness_se  concavity_se  concave points_se  \\\n",
            "0    0.120469  ...        0.351398      0.135682           0.300625   \n",
            "1    0.082589  ...        0.081323      0.046970           0.253836   \n",
            "2    0.094303  ...        0.283955      0.096768           0.389847   \n",
            "3    0.175875  ...        0.543215      0.142955           0.353665   \n",
            "4    0.093065  ...        0.167918      0.143636           0.357075   \n",
            "\n",
            "   symmetry_se  fractal_dimension_se  smoothness_worst  compactness_worst  \\\n",
            "0     0.311645              0.183042          0.601136           0.619292   \n",
            "1     0.084539              0.091110          0.347553           0.154563   \n",
            "2     0.205690              0.127006          0.483590           0.385375   \n",
            "3     0.728148              0.287205          0.915472           0.814012   \n",
            "4     0.136179              0.145800          0.437364           0.172415   \n",
            "\n",
            "   concavity_worst  symmetry_worst  fractal_dimension_worst  \n",
            "0         0.568610        0.598462                 0.418864  \n",
            "1         0.192971        0.233590                 0.222878  \n",
            "2         0.359744        0.403706                 0.213433  \n",
            "3         0.548642        1.000000                 0.773711  \n",
            "4         0.319489        0.157500                 0.142595  \n",
            "\n",
            "[5 rows x 21 columns]\n"
          ]
        }
      ],
      "source": [
        "data.columns = data.columns.str.strip()\n",
        "data.drop(labels = ['perimeter_mean', 'area_mean', 'concave points_mean', 'perimeter_se', 'area_se', 'radius_worst', 'texture_worst', 'perimeter_worst', 'area_worst', 'concave points_worst'\n",
        "], axis = 1, inplace = True)\n",
        "\n",
        "scaler = MinMaxScaler()\n",
        "numeric_columns = data.select_dtypes(include=['float64']).columns\n",
        "data[numeric_columns] = scaler.fit_transform(data[numeric_columns])\n",
        "print(data.head())\n"
      ]
    },
    {
      "cell_type": "code",
      "execution_count": 64,
      "metadata": {
        "id": "yNwuJRVkx2iv"
      },
      "outputs": [],
      "source": [
        "X1 = data.drop('diagnosis', axis=1)\n",
        "y1 = data['diagnosis']\n",
        "X_train1, X_remaining1, y_train1, y_remaining1 = train_test_split(X1, y1, test_size=0.4, random_state=42)\n",
        "X_val1, X_test1, y_val1, y_test1 = train_test_split(X_remaining1, y_remaining1, test_size=0.5, random_state=42)\n",
        "\n"
      ]
    },
    {
      "cell_type": "code",
      "execution_count": 65,
      "metadata": {
        "id": "h7_bRVRr7P13"
      },
      "outputs": [],
      "source": [
        "# Looping over alpha and fit_prior values\n",
        "alpha_values = [0.1, 0.5, 1.0, 2.0]\n",
        "fit_prior_values = [True, False]\n",
        "cv_results = []\n",
        "\n",
        "for alpha in alpha_values:\n",
        "    for fit_prior in fit_prior_values:\n",
        "        nb_model = MultinomialNB(alpha=alpha, fit_prior=fit_prior)\n",
        "\n",
        "        # getting Cross-validation on training set\n",
        "        cv_scores = cross_val_score(nb_model, X_train1, y_train1, cv=5, scoring='accuracy')\n",
        "\n",
        "        #get mean\n",
        "        mean_cv_score = np.mean(cv_scores)\n",
        "\n",
        "        # Fiting the model on the training data\n",
        "        nb_model.fit(X_train1, y_train1)\n",
        "\n",
        "\n",
        "\n",
        "\n",
        "\n",
        "        cv_results.append({\n",
        "            'alpha': alpha,\n",
        "            'fit_prior': fit_prior,\n",
        "            'cv_mean_accuracy': mean_cv_score,\n",
        "\n",
        "\n",
        "        })"
      ]
    },
    {
      "cell_type": "code",
      "execution_count": 66,
      "metadata": {
        "colab": {
          "base_uri": "https://localhost:8080/"
        },
        "id": "1w18A9xk7RR0",
        "outputId": "8e41f1cc-0a10-4ef2-d0a8-bd88ec5525de"
      },
      "outputs": [
        {
          "name": "stdout",
          "output_type": "stream",
          "text": [
            "Best Alpha: 2.0, Fit Prior: False, Cross-Validation accuracy: 0.8682,  \n",
            "Best Alpha: 0.5, Fit Prior: False, Cross-Validation accuracy: 0.8653,  \n"
          ]
        }
      ],
      "source": [
        "sorted_cv_results = sorted(cv_results, key=lambda x: x['cv_mean_accuracy'], reverse=True)\n",
        "\n",
        "# Geting the best two results\n",
        "top_results = sorted_cv_results[:2]\n",
        "for result in top_results:\n",
        "    print(f\"Best Alpha: {result['alpha']}, Fit Prior: {result['fit_prior']}, \"\n",
        "          f\"Cross-Validation accuracy: {result['cv_mean_accuracy']:.4f},  \")"
      ]
    },
    {
      "cell_type": "markdown",
      "metadata": {
        "id": "XTggY_QWcFto"
      },
      "source": [
        "The best two configurations (Alpha 2.0 and 0.5) show nearly identical performance, with cross-validation accuracies of 0.8682 and 0.8653 This suggests that small changes in Alpha have minimal impact on the model's performance. Either choice could be effective for the model."
      ]
    },
    {
      "cell_type": "code",
      "execution_count": 67,
      "metadata": {
        "colab": {
          "base_uri": "https://localhost:8080/"
        },
        "id": "qn0r-MT7qXHR",
        "outputId": "01143bcc-595d-4587-a711-a2e0ab0d1fee"
      },
      "outputs": [
        {
          "name": "stdout",
          "output_type": "stream",
          "text": [
            "Test Accuracy: 0.8246\n"
          ]
        }
      ],
      "source": [
        "best_alpha = 2.0\n",
        "best_fit_prior = False\n",
        "\n",
        "best_nb_model = MultinomialNB(alpha=best_alpha, fit_prior=best_fit_prior)\n",
        "\n",
        "best_nb_model.fit(X_train1, y_train1)\n",
        "\n",
        "y_val_pred1 = best_nb_model.predict(X_val1)\n",
        "\n",
        "y_test_pred1 = best_nb_model.predict(X_test1)\n",
        "test_accuracy = np.mean(y_test_pred1 == y_test1)\n",
        "\n",
        "\n",
        "print(f\"Test Accuracy: {test_accuracy:.4f}\")\n",
        "\n"
      ]
    },
    {
      "cell_type": "markdown",
      "metadata": {
        "id": "48JbaoR4A1uz"
      },
      "source": [
        "The test accuracy of 0.8246 means the model correctly predicted 82.5% of the test cases."
      ]
    },
    {
      "cell_type": "code",
      "execution_count": 68,
      "metadata": {
        "colab": {
          "base_uri": "https://localhost:8080/",
          "height": 564
        },
        "id": "4N1jgcH4raQQ",
        "outputId": "fa25033e-ed13-40ba-dc48-a0b71403e691"
      },
      "outputs": [
        {
          "data": {
            "image/png": "[encoded data removed]",
            "text/plain": [
              "<Figure size 600x600 with 2 Axes>"
            ]
          },
          "metadata": {},
          "output_type": "display_data"
        }
      ],
      "source": [
        "from sklearn.metrics import confusion_matrix\n",
        "import seaborn as sns\n",
        "import matplotlib.pyplot as plt\n",
        "\n",
        "best_alpha = 2.0\n",
        "best_fit_prior = False\n",
        "\n",
        "best_nb_model = MultinomialNB(alpha=best_alpha, fit_prior=best_fit_prior)\n",
        "best_nb_model.fit(X_train1, y_train1)\n",
        "\n",
        "y_test_pred1 = best_nb_model.predict(X_test1)\n",
        "\n",
        "cm = confusion_matrix(y_test, y_test_pred1)\n",
        "\n",
        "plt.figure(figsize=(6, 6))\n",
        "sns.heatmap(cm, annot=True, fmt='d', cmap='Blues', xticklabels=['Predicted: Negative', 'Predicted: Positive'], yticklabels=['Actual: Negative', 'Actual: Positive'])\n",
        "plt.xlabel('Predicted')\n",
        "plt.ylabel('Actual')\n",
        "plt.title('Confusion Matrix')\n",
        "plt.show()\n"
      ]
    },
    {
      "cell_type": "markdown",
      "metadata": {
        "id": "RMW7bcx0sTBS"
      },
      "source": [
        "The confusion matrix indicates that the model performs reasonably well. It correctly identifies 62 true negatives and 32 true positives. However, there are some misclassifications, with 14 false positives and 6 false negatives. These errors suggest that the model is slightly more prone to over-predicting positives, as evidenced by the higher number of false positives compared to false negatives. Nonetheless, the overall performance is decent, but reducing these misclassifications could improve the model's accuracy and reliability."
      ]
    },
    {
      "cell_type": "markdown",
      "metadata": {
        "id": "34xWzlV77w5a"
      },
      "source": [
        "# **part3**\n",
        "**Compare SVM vs NB performance metrics**\n",
        "\n",
        "\n",
        "**1.SVM Model**   \n",
        "\n",
        "*  Test Accuracy: 0.9737\n",
        "*   Confusion Matrix: High true positive and true negative rates, with very few misclassifications.\n",
        "\n",
        "The SVM model shows strong performance with a test accuracy of 97.37%. The confusion matrix indicates that the model correctly classifies most cases, with minimal misclassifications. This high accuracy means that the model reliably distinguishes between malignant and benign cases, and its strong sensitivity suggests that only a small number of false negatives are present.\n",
        "\n",
        "\n",
        "\n",
        "\n",
        "**2.  Naive Bayes Model**\n",
        "\n",
        "\n",
        "*   Test Accuracy: 0.8246\n",
        "*   Confusion Matrix: 62 true negatives, 32 true positives, 14 false positives, 6 false negatives.\n",
        "\n",
        "The Naive Bayes model, while still providing useful insights, performs notably worse than the SVM model. It achieves a test accuracy of 82.46%, which is significantly lower than the SVM model's performance. The confusion matrix shows some misclassifications, with a higher number of false positives (14), indicating the model might be over-predicting the positive class. The higher MSE of 0.1754 reflects this discrepancy in performance.\n",
        "\n",
        "\n",
        "\n",
        "\n"
      ]
    },
    {
      "cell_type": "markdown",
      "metadata": {
        "id": "Drwi8tfIJ0hP"
      },
      "source": [
        " **time comparsion between SVM and NB **"
      ]
    },
    {
      "cell_type": "code",
      "execution_count": 69,
      "metadata": {
        "colab": {
          "base_uri": "https://localhost:8080/"
        },
        "id": "n84pvqQr9Jkw",
        "outputId": "bc977b5c-273b-4843-9c97-197b786ae49f"
      },
      "outputs": [
        {
          "name": "stdout",
          "output_type": "stream",
          "text": [
            "SVM Training Time: 0.0071 seconds\n",
            "SVM Testing Time: 0.0029 seconds\n",
            "SVM Accuracy: 0.9825\n",
            "SVM MSE: 0.0175\n",
            "Naive Bayes Training Time: 0.0042 seconds\n",
            "Naive Bayes Testing Time: 0.0024 seconds\n",
            "Naive Bayes Accuracy: 0.8246\n",
            "Naive Bayes MSE: 0.1754\n"
          ]
        }
      ],
      "source": [
        "\n",
        "\n",
        "start_time = time.time()\n",
        "svm_model = SVC(kernel='linear', C=100.0, gamma=1)\n",
        "svm_model.fit(X_train, y_train)\n",
        "svm_train_time = time.time() - start_time\n",
        "\n",
        "start_time = time.time()\n",
        "svm_pred = svm_model.predict(X_test)\n",
        "svm_test_time = time.time() - start_time\n",
        "\n",
        "svm_accuracy = accuracy_score(y_test, svm_pred)\n",
        "svm_mse = mean_squared_error(y_test, svm_pred)\n",
        "\n",
        "start_time = time.time()\n",
        "nb_model = MultinomialNB(alpha=2, fit_prior=False)\n",
        "nb_model.fit(X_train, y_train)\n",
        "nb_train_time = time.time() - start_time\n",
        "\n",
        "start_time = time.time()\n",
        "nb_pred = nb_model.predict(X_test)\n",
        "nb_test_time = time.time() - start_time\n",
        "\n",
        "nb_accuracy = accuracy_score(y_test, nb_pred)\n",
        "nb_mse = mean_squared_error(y_test, nb_pred)\n",
        "\n",
        "print(f\"SVM Training Time: {svm_train_time:.4f} seconds\")\n",
        "print(f\"SVM Testing Time: {svm_test_time:.4f} seconds\")\n",
        "print(f\"SVM Accuracy: {svm_accuracy:.4f}\")\n",
        "print(f\"SVM MSE: {svm_mse:.4f}\")\n",
        "\n",
        "print(f\"Naive Bayes Training Time: {nb_train_time:.4f} seconds\")\n",
        "print(f\"Naive Bayes Testing Time: {nb_test_time:.4f} seconds\")\n",
        "print(f\"Naive Bayes Accuracy: {nb_accuracy:.4f}\")\n",
        "print(f\"Naive Bayes MSE: {nb_mse:.4f}\")\n"
      ]
    },
    {
      "cell_type": "markdown",
      "metadata": {
        "id": "30GFd3KMMv_y"
      },
      "source": [
        "The SVM model took significantly longer to train than the Naive Bayes model, with a training time of 7.9 seconds compared to just 0.0033 seconds for Naive Bayes. However, the testing times for both models were very quick, with SVM taking 0.0018 seconds and Naive Bayes only slightly faster at 0.0004 seconds.\n",
        "\n",
        "In terms of performance, SVM achieved a higher accuracy (0.9386) and lower MSE (0.0614) compared to Naive Bayes, which had an accuracy of 0.9211 and an MSE of 0.0789. Although Naive Bayes is computationally much faster, SVM outperforms it in terms of predictive accuracy and error. Therefore, SVM is preferable when higher accuracy is required, while Naive Bayes may be a better option for faster training times in cases where computational efficiency is more important."
      ]
    },
    {
      "cell_type": "markdown",
      "metadata": {
        "id": "CTFPrhYQMyBc"
      },
      "source": [
        "**comparing memeory usage**"
      ]
    },
    {
      "cell_type": "code",
      "execution_count": 70,
      "metadata": {
        "colab": {
          "base_uri": "https://localhost:8080/",
          "height": 564
        },
        "id": "ey9SbiJ-MxRa",
        "outputId": "e2e66746-fc4f-4175-89e1-ddd43f728b71"
      },
      "outputs": [
        {
          "data": {
            "image/png": "[encoded data removed]",
            "text/plain": [
              "<Figure size 1000x600 with 1 Axes>"
            ]
          },
          "metadata": {},
          "output_type": "display_data"
        }
      ],
      "source": [
        "from memory_profiler import memory_usage\n",
        "\n",
        "X = pd.DataFrame(np.abs(np.random.randn(1000, 20)))\n",
        "y = pd.Series(np.random.randint(0, 2, size=1000))\n",
        "\n",
        "X_train, X_remaining, y_train, y_remaining = train_test_split(X, y, test_size=0.4, random_state=42)\n",
        "X_val, X_test, y_val, y_test = train_test_split(X_remaining, y_remaining, test_size=0.5, random_state=42)\n",
        "\n",
        "def svm_train_and_predict():\n",
        "    svm = SVC(kernel='linear', C=10, gamma=0.0001)\n",
        "    svm.fit(X_train, y_train)\n",
        "    predictions = svm.predict(X_test)\n",
        "\n",
        "def nb_train_and_predict():\n",
        "    nb = MultinomialNB(alpha=2.0, fit_prior=False)\n",
        "    nb.fit(X_train, y_train)\n",
        "    predictions = nb.predict(X_test)\n",
        "\n",
        "mem_usage_svm = memory_usage(svm_train_and_predict)\n",
        "mem_usage_nb = memory_usage(nb_train_and_predict)\n",
        "\n",
        "plt.figure(figsize=(10, 6))\n",
        "plt.plot(mem_usage_svm, label=\"SVM Memory Usage\", color='blue')\n",
        "plt.plot(mem_usage_nb, label=\"Naive Bayes Memory Usage\", color='orange')\n",
        "plt.title(\"Memory Usage Over Time for SVM and Naive Bayes\")\n",
        "plt.xlabel(\"Time (in seconds)\")\n",
        "plt.ylabel(\"Memory Usage (in MiB)\")\n",
        "plt.legend(loc=\"best\")\n",
        "plt.grid(True)\n",
        "plt.show()"
      ]
    },
    {
      "cell_type": "code",
      "execution_count": 70,
      "metadata": {
        "id": "xCcCkcL1NAbd"
      },
      "outputs": [],
      "source": []
    }
  ],
  "metadata": {
    "colab": {
      "provenance": []
    },
    "kernelspec": {
      "display_name": "Python 3",
      "name": "python3"
    },
    "language_info": {
      "name": "python"
    }
  },
  "nbformat": 4,
  "nbformat_minor": 0
}
